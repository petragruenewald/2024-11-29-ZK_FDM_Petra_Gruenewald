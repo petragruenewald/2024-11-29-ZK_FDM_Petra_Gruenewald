{
 "cells": [
  {
   "cell_type": "markdown",
   "id": "c28d6148-01bd-429d-9751-b419ab3afe7b",
   "metadata": {},
   "source": [
    "# Python Einführung "
   ]
  },
  {
   "cell_type": "code",
   "execution_count": 1,
   "id": "b9afdc3b-3a8c-4e36-a989-75663de0d484",
   "metadata": {},
   "outputs": [
    {
     "name": "stdout",
     "output_type": "stream",
     "text": [
      "Hello world!\n"
     ]
    }
   ],
   "source": [
    "print (\"Hello world!\")"
   ]
  },
  {
   "cell_type": "code",
   "execution_count": 2,
   "id": "705c79c3-b1b6-4fa7-8489-bcf6ae60c254",
   "metadata": {},
   "outputs": [
    {
     "name": "stdout",
     "output_type": "stream",
     "text": [
      "Something\n"
     ]
    }
   ],
   "source": [
    "print (\"Something\") "
   ]
  },
  {
   "cell_type": "code",
   "execution_count": 3,
   "id": "736576e3-7e75-4f13-897d-274bb55a6f03",
   "metadata": {},
   "outputs": [],
   "source": [
    "# Dies ist ein Kommentar"
   ]
  },
  {
   "cell_type": "code",
   "execution_count": 6,
   "id": "bebc00ba-17e1-4ba2-b166-3f37d730df0b",
   "metadata": {},
   "outputs": [],
   "source": [
    "# Dies ist ein Kommentar\n",
    "# print (\"Something\")"
   ]
  },
  {
   "cell_type": "markdown",
   "id": "eff5a1d8-75ff-4a03-a62b-945fd4aeb4b4",
   "metadata": {},
   "source": [
    "## Einfache Datentypen"
   ]
  },
  {
   "cell_type": "code",
   "execution_count": 7,
   "id": "be9da8be-7054-429a-b856-fc39b7ee8b1b",
   "metadata": {},
   "outputs": [],
   "source": [
    "# Variablen und Wertezuweisungen\n",
    "name = \"Lovelace\""
   ]
  },
  {
   "cell_type": "code",
   "execution_count": 8,
   "id": "750e21d4-a3cb-485c-9d05-a3547f2dced4",
   "metadata": {},
   "outputs": [
    {
     "name": "stdout",
     "output_type": "stream",
     "text": [
      "Lovelace\n"
     ]
    }
   ],
   "source": [
    "print (name)"
   ]
  },
  {
   "cell_type": "code",
   "execution_count": 9,
   "id": "ae6b1c1a-08fb-4d53-aac9-8b01898b9ae8",
   "metadata": {},
   "outputs": [
    {
     "name": "stdout",
     "output_type": "stream",
     "text": [
      "Ada\n"
     ]
    }
   ],
   "source": [
    "# Strings - Zeichenkette\n",
    "first_name = \"Ada\"\n",
    "print (first_name)"
   ]
  },
  {
   "cell_type": "code",
   "execution_count": 10,
   "id": "22e79a67-cb80-41ef-bb78-b9ff30f6c6a0",
   "metadata": {},
   "outputs": [
    {
     "name": "stdout",
     "output_type": "stream",
     "text": [
      "37\n"
     ]
    }
   ],
   "source": [
    "# Integer - Ganzzahlen\n",
    "age = 37\n",
    "print (age)"
   ]
  },
  {
   "cell_type": "code",
   "execution_count": 11,
   "id": "39c65ddb-9119-4157-9e0d-ddab406d944d",
   "metadata": {},
   "outputs": [
    {
     "name": "stdout",
     "output_type": "stream",
     "text": [
      "1.7123\n"
     ]
    }
   ],
   "source": [
    "# Float - Gleitkommazahlen\n",
    "size = 1.7123\n",
    "print (size)"
   ]
  },
  {
   "cell_type": "code",
   "execution_count": 13,
   "id": "62f5e99f-51a9-4e8f-be94-f5eb41cdcac8",
   "metadata": {},
   "outputs": [
    {
     "name": "stdout",
     "output_type": "stream",
     "text": [
      "True\n",
      "False\n"
     ]
    }
   ],
   "source": [
    "# Boolean - Boolsche Werte\n",
    "known_math = True\n",
    "print (known_math)\n",
    "likes_gardening = False\n",
    "print (likes_gardening)"
   ]
  },
  {
   "cell_type": "code",
   "execution_count": 17,
   "id": "4659f825-ad0e-4419-ab45-8e5589fb0400",
   "metadata": {},
   "outputs": [
    {
     "data": {
      "text/plain": [
       "bool"
      ]
     },
     "execution_count": 17,
     "metadata": {},
     "output_type": "execute_result"
    }
   ],
   "source": [
    "# Typen anzeigen lassen\n",
    "type (known_math)"
   ]
  },
  {
   "cell_type": "code",
   "execution_count": 18,
   "id": "e8823f1a-abb6-42f6-881d-28a268088378",
   "metadata": {},
   "outputs": [
    {
     "data": {
      "text/plain": [
       "'Lovelace'"
      ]
     },
     "execution_count": 18,
     "metadata": {},
     "output_type": "execute_result"
    }
   ],
   "source": [
    "name"
   ]
  },
  {
   "cell_type": "code",
   "execution_count": 19,
   "id": "f36e19d5-961b-40f1-a2ba-94db1ad858b0",
   "metadata": {},
   "outputs": [
    {
     "data": {
      "text/plain": [
       "37"
      ]
     },
     "execution_count": 19,
     "metadata": {},
     "output_type": "execute_result"
    }
   ],
   "source": [
    "name\n",
    "age"
   ]
  },
  {
   "cell_type": "code",
   "execution_count": 20,
   "id": "5f6b2bfd-9daa-4d09-aa04-89bd265d7f52",
   "metadata": {},
   "outputs": [
    {
     "name": "stdout",
     "output_type": "stream",
     "text": [
      "Lovelace\n",
      "37\n"
     ]
    }
   ],
   "source": [
    "print (name)\n",
    "print (age)"
   ]
  },
  {
   "cell_type": "markdown",
   "id": "6982a82c-4e49-4fb2-bd11-daa9c4303c7d",
   "metadata": {},
   "source": [
    "## Operatoren"
   ]
  },
  {
   "cell_type": "code",
   "execution_count": 21,
   "id": "8abfd261-a153-4d04-82f8-1647ccd7b12f",
   "metadata": {},
   "outputs": [
    {
     "data": {
      "text/plain": [
       "10"
      ]
     },
     "execution_count": 21,
     "metadata": {},
     "output_type": "execute_result"
    }
   ],
   "source": [
    "# Addition\n",
    "5 + 5"
   ]
  },
  {
   "cell_type": "code",
   "execution_count": 23,
   "id": "13401eba-f0ea-455f-99cb-4c70906add87",
   "metadata": {},
   "outputs": [
    {
     "data": {
      "text/plain": [
       "3700"
      ]
     },
     "execution_count": 23,
     "metadata": {},
     "output_type": "execute_result"
    }
   ],
   "source": [
    "# Multiplikation\n",
    "age * 100"
   ]
  },
  {
   "cell_type": "code",
   "execution_count": 24,
   "id": "e8ec5354-0625-4549-b8ca-a241ef53d83e",
   "metadata": {},
   "outputs": [
    {
     "data": {
      "text/plain": [
       "'LovelaceLovelace'"
      ]
     },
     "execution_count": 24,
     "metadata": {},
     "output_type": "execute_result"
    }
   ],
   "source": [
    "# Verkettung von strings\n",
    "name + name"
   ]
  },
  {
   "cell_type": "code",
   "execution_count": 25,
   "id": "952fbdda-ac01-4375-bfe1-62500991537d",
   "metadata": {},
   "outputs": [
    {
     "data": {
      "text/plain": [
       "'AdaLovelace'"
      ]
     },
     "execution_count": 25,
     "metadata": {},
     "output_type": "execute_result"
    }
   ],
   "source": [
    "first_name + name"
   ]
  },
  {
   "cell_type": "code",
   "execution_count": 26,
   "id": "3677d731-5d73-4527-91d8-eaadbee0922e",
   "metadata": {},
   "outputs": [
    {
     "name": "stdout",
     "output_type": "stream",
     "text": [
      "Ada Lovelace\n"
     ]
    }
   ],
   "source": [
    "print (first_name + \" \" + name)"
   ]
  },
  {
   "cell_type": "code",
   "execution_count": 27,
   "id": "6e5d313e-8564-430c-8050-bc0ea53a732e",
   "metadata": {},
   "outputs": [
    {
     "data": {
      "text/plain": [
       "'LovelaceLovelaceLovelaceLovelaceLovelaceLovelaceLovelaceLovelaceLovelaceLovelace'"
      ]
     },
     "execution_count": 27,
     "metadata": {},
     "output_type": "execute_result"
    }
   ],
   "source": [
    "name * 10"
   ]
  },
  {
   "cell_type": "code",
   "execution_count": 28,
   "id": "8f9c48f9-8d7a-4922-a3c5-e1a0bd533af6",
   "metadata": {},
   "outputs": [
    {
     "ename": "TypeError",
     "evalue": "can only concatenate str (not \"int\") to str",
     "output_type": "error",
     "traceback": [
      "\u001b[1;31m---------------------------------------------------------------------------\u001b[0m",
      "\u001b[1;31mTypeError\u001b[0m                                 Traceback (most recent call last)",
      "Cell \u001b[1;32mIn[28], line 1\u001b[0m\n\u001b[1;32m----> 1\u001b[0m \u001b[43mname\u001b[49m\u001b[43m \u001b[49m\u001b[38;5;241;43m+\u001b[39;49m\u001b[43m \u001b[49m\u001b[38;5;241;43m10\u001b[39;49m\n",
      "\u001b[1;31mTypeError\u001b[0m: can only concatenate str (not \"int\") to str"
     ]
    }
   ],
   "source": [
    "name + 10"
   ]
  },
  {
   "cell_type": "code",
   "execution_count": 29,
   "id": "9306d23f-417b-4270-87bb-e68e316b354a",
   "metadata": {},
   "outputs": [
    {
     "data": {
      "text/plain": [
       "'Lovelace10'"
      ]
     },
     "execution_count": 29,
     "metadata": {},
     "output_type": "execute_result"
    }
   ],
   "source": [
    "name + \"10\""
   ]
  },
  {
   "cell_type": "code",
   "execution_count": 30,
   "id": "65aec3ed-4b38-4a49-a04b-c1d25249c9f2",
   "metadata": {},
   "outputs": [
    {
     "data": {
      "text/plain": [
       "0.04627837837837838"
      ]
     },
     "execution_count": 30,
     "metadata": {},
     "output_type": "execute_result"
    }
   ],
   "source": [
    "size / age"
   ]
  },
  {
   "cell_type": "code",
   "execution_count": 32,
   "id": "99215516-fd00-4975-a270-9ded30d5d1d8",
   "metadata": {},
   "outputs": [],
   "source": [
    "number_of_articles = \"50\""
   ]
  },
  {
   "cell_type": "code",
   "execution_count": 33,
   "id": "eef66c61-1d40-4b39-8078-b4d3cfbc275c",
   "metadata": {},
   "outputs": [
    {
     "ename": "TypeError",
     "evalue": "unsupported operand type(s) for /: 'str' and 'int'",
     "output_type": "error",
     "traceback": [
      "\u001b[1;31m---------------------------------------------------------------------------\u001b[0m",
      "\u001b[1;31mTypeError\u001b[0m                                 Traceback (most recent call last)",
      "Cell \u001b[1;32mIn[33], line 1\u001b[0m\n\u001b[1;32m----> 1\u001b[0m \u001b[43mnumber_of_articles\u001b[49m\u001b[43m \u001b[49m\u001b[38;5;241;43m/\u001b[39;49m\u001b[43m \u001b[49m\u001b[38;5;241;43m10\u001b[39;49m\n",
      "\u001b[1;31mTypeError\u001b[0m: unsupported operand type(s) for /: 'str' and 'int'"
     ]
    }
   ],
   "source": [
    "number_of_articles / 10"
   ]
  },
  {
   "cell_type": "code",
   "execution_count": 34,
   "id": "b2e121c9-062b-4d74-bd0c-9a2a2781fcf9",
   "metadata": {},
   "outputs": [
    {
     "data": {
      "text/plain": [
       "5.0"
      ]
     },
     "execution_count": 34,
     "metadata": {},
     "output_type": "execute_result"
    }
   ],
   "source": [
    "int (number_of_articles) / 10"
   ]
  },
  {
   "cell_type": "code",
   "execution_count": 35,
   "id": "cc609682-d915-4ca2-8d9b-c197dc433a41",
   "metadata": {},
   "outputs": [
    {
     "data": {
      "text/plain": [
       "str"
      ]
     },
     "execution_count": 35,
     "metadata": {},
     "output_type": "execute_result"
    }
   ],
   "source": [
    "type (number_of_articles)"
   ]
  },
  {
   "cell_type": "markdown",
   "id": "a77c01a4-1b94-4f21-b820-4db6505edc24",
   "metadata": {},
   "source": [
    "## Funktionen und Methoden"
   ]
  },
  {
   "cell_type": "code",
   "execution_count": 36,
   "id": "46485ee7-0656-4cfe-9b00-a016ebaac8d8",
   "metadata": {},
   "outputs": [
    {
     "data": {
      "text/plain": [
       "8"
      ]
     },
     "execution_count": 36,
     "metadata": {},
     "output_type": "execute_result"
    }
   ],
   "source": [
    "# Funktion\n",
    "len (name)"
   ]
  },
  {
   "cell_type": "code",
   "execution_count": 37,
   "id": "aa567914-4152-4a66-8b81-60f1cf42c597",
   "metadata": {},
   "outputs": [
    {
     "data": {
      "text/plain": [
       "'LOVELACE'"
      ]
     },
     "execution_count": 37,
     "metadata": {},
     "output_type": "execute_result"
    }
   ],
   "source": [
    "# Methode \n",
    "name.upper ()"
   ]
  },
  {
   "cell_type": "code",
   "execution_count": 38,
   "id": "e80aebf4-b9aa-456e-b80e-6bded7e41731",
   "metadata": {},
   "outputs": [
    {
     "data": {
      "text/plain": [
       "'Lovelace'"
      ]
     },
     "execution_count": 38,
     "metadata": {},
     "output_type": "execute_result"
    }
   ],
   "source": [
    "name"
   ]
  },
  {
   "cell_type": "code",
   "execution_count": 39,
   "id": "8090c606-7fe1-4b0c-94b9-367ef7890233",
   "metadata": {},
   "outputs": [
    {
     "data": {
      "text/plain": [
       "2"
      ]
     },
     "execution_count": 39,
     "metadata": {},
     "output_type": "execute_result"
    }
   ],
   "source": [
    "# Methode mit einem Argument\n",
    "name.count (\"e\")"
   ]
  },
  {
   "cell_type": "code",
   "execution_count": 42,
   "id": "1bf592b6-e395-46cb-8246-ce72b762a610",
   "metadata": {},
   "outputs": [
    {
     "data": {
      "text/plain": [
       "2"
      ]
     },
     "execution_count": 42,
     "metadata": {},
     "output_type": "execute_result"
    }
   ],
   "source": [
    "name.upper ().count (\"L\")"
   ]
  },
  {
   "cell_type": "code",
   "execution_count": 41,
   "id": "3507827e-3102-4d03-97d6-6e7a8c4a6eb7",
   "metadata": {},
   "outputs": [
    {
     "ename": "TypeError",
     "evalue": "str.upper() takes no arguments (1 given)",
     "output_type": "error",
     "traceback": [
      "\u001b[1;31m---------------------------------------------------------------------------\u001b[0m",
      "\u001b[1;31mTypeError\u001b[0m                                 Traceback (most recent call last)",
      "Cell \u001b[1;32mIn[41], line 1\u001b[0m\n\u001b[1;32m----> 1\u001b[0m \u001b[43mname\u001b[49m\u001b[38;5;241;43m.\u001b[39;49m\u001b[43mupper\u001b[49m\u001b[43m \u001b[49m\u001b[43m(\u001b[49m\u001b[38;5;124;43m\"\u001b[39;49m\u001b[38;5;124;43ml\u001b[39;49m\u001b[38;5;124;43m\"\u001b[39;49m\u001b[43m)\u001b[49m\n",
      "\u001b[1;31mTypeError\u001b[0m: str.upper() takes no arguments (1 given)"
     ]
    }
   ],
   "source": [
    "name.upper (\"l\")"
   ]
  },
  {
   "cell_type": "code",
   "execution_count": 43,
   "id": "1c68f679-783d-4a13-b0e2-a264e908c62a",
   "metadata": {},
   "outputs": [],
   "source": [
    "name_upper = name.upper()"
   ]
  },
  {
   "cell_type": "code",
   "execution_count": 44,
   "id": "aae06758-01e2-40e8-81c3-3c373ed28574",
   "metadata": {},
   "outputs": [
    {
     "name": "stdout",
     "output_type": "stream",
     "text": [
      "LOVELACE\n"
     ]
    }
   ],
   "source": [
    "print (name_upper)"
   ]
  },
  {
   "cell_type": "code",
   "execution_count": 46,
   "id": "619d6113-0be5-4181-a3fb-0ab1aae4d627",
   "metadata": {},
   "outputs": [
    {
     "ename": "SyntaxError",
     "evalue": "cannot assign to expression here. Maybe you meant '==' instead of '='? (110165086.py, line 1)",
     "output_type": "error",
     "traceback": [
      "\u001b[1;36m  Cell \u001b[1;32mIn[46], line 1\u001b[1;36m\u001b[0m\n\u001b[1;33m    name-upper = name.upper ()\u001b[0m\n\u001b[1;37m    ^\u001b[0m\n\u001b[1;31mSyntaxError\u001b[0m\u001b[1;31m:\u001b[0m cannot assign to expression here. Maybe you meant '==' instead of '='?\n"
     ]
    }
   ],
   "source": [
    "name-upper = name.upper ()"
   ]
  },
  {
   "cell_type": "code",
   "execution_count": 47,
   "id": "de610716-6c5f-4a0c-972a-82f6c12d1124",
   "metadata": {},
   "outputs": [
    {
     "data": {
      "text/plain": [
       "'Love is everywhere'"
      ]
     },
     "execution_count": 47,
     "metadata": {},
     "output_type": "execute_result"
    }
   ],
   "source": [
    "# Methoden mit zwei Argumenten\n",
    "name.replace (\"lace\", \" is everywhere\")"
   ]
  },
  {
   "cell_type": "markdown",
   "id": "c302df37-4c4b-43c1-a02d-8aedc042be3a",
   "metadata": {},
   "source": [
    "## Listen und Dictionaries"
   ]
  },
  {
   "cell_type": "code",
   "execution_count": 49,
   "id": "502d4060-8493-40e9-a9db-d999d8ab5407",
   "metadata": {},
   "outputs": [],
   "source": [
    "names = [\"Lovelace\" , \"Darwin\" , \"Noether\" , \"Hawking\"]"
   ]
  },
  {
   "cell_type": "markdown",
   "id": "de64a428-643b-4ec8-868a-4ec5215e0f41",
   "metadata": {},
   "source": [
    "names"
   ]
  },
  {
   "cell_type": "code",
   "execution_count": 50,
   "id": "858875f3-e621-4e5f-9b90-6f8d83f6711e",
   "metadata": {},
   "outputs": [
    {
     "data": {
      "text/plain": [
       "['Lovelace', 'Darwin', 'Noether', 'Hawking']"
      ]
     },
     "execution_count": 50,
     "metadata": {},
     "output_type": "execute_result"
    }
   ],
   "source": [
    "names"
   ]
  },
  {
   "cell_type": "code",
   "execution_count": 52,
   "id": "74380fb2-a4c3-4bba-852f-862cf5707ae5",
   "metadata": {},
   "outputs": [
    {
     "data": {
      "text/plain": [
       "'Darwin'"
      ]
     },
     "execution_count": 52,
     "metadata": {},
     "output_type": "execute_result"
    }
   ],
   "source": [
    "names [1]"
   ]
  },
  {
   "cell_type": "code",
   "execution_count": 53,
   "id": "5bad821a-34d3-4df8-82fb-777e33cb233c",
   "metadata": {},
   "outputs": [
    {
     "data": {
      "text/plain": [
       "'Lovelace'"
      ]
     },
     "execution_count": 53,
     "metadata": {},
     "output_type": "execute_result"
    }
   ],
   "source": [
    "names [0]"
   ]
  },
  {
   "cell_type": "code",
   "execution_count": 54,
   "id": "8e80bd23-e39d-48ef-89ec-57a59a3a705f",
   "metadata": {},
   "outputs": [
    {
     "data": {
      "text/plain": [
       "'Hawking'"
      ]
     },
     "execution_count": 54,
     "metadata": {},
     "output_type": "execute_result"
    }
   ],
   "source": [
    "names [-1]"
   ]
  },
  {
   "cell_type": "code",
   "execution_count": 55,
   "id": "b89bc5ea-35a8-4206-9559-c473ec1e8546",
   "metadata": {},
   "outputs": [
    {
     "data": {
      "text/plain": [
       "['Lovelace', 'Darwin', 'Noether']"
      ]
     },
     "execution_count": 55,
     "metadata": {},
     "output_type": "execute_result"
    }
   ],
   "source": [
    "names [0:3]"
   ]
  },
  {
   "cell_type": "code",
   "execution_count": 57,
   "id": "da5e68cf-422e-4898-87f7-deb5ce08e515",
   "metadata": {},
   "outputs": [
    {
     "data": {
      "text/plain": [
       "['Lovelace', 'Darwin']"
      ]
     },
     "execution_count": 57,
     "metadata": {},
     "output_type": "execute_result"
    }
   ],
   "source": [
    "# slicing\n",
    "names [:2]"
   ]
  },
  {
   "cell_type": "code",
   "execution_count": 58,
   "id": "fdb42db8-5480-4e7a-a92b-ee55ccdcd6f7",
   "metadata": {},
   "outputs": [
    {
     "data": {
      "text/plain": [
       "['Noether', 'Hawking']"
      ]
     },
     "execution_count": 58,
     "metadata": {},
     "output_type": "execute_result"
    }
   ],
   "source": [
    "names [2:]"
   ]
  },
  {
   "cell_type": "code",
   "execution_count": 60,
   "id": "8f75c964-2f3c-4faa-befd-73c9b823120a",
   "metadata": {},
   "outputs": [],
   "source": [
    "# Schlüssel - Wertpaar bei Dictionaries\n",
    "authors_and_birth_years = {\"Lovelace\": 1815 , \n",
    "\"Darwin\": 1809 , \"Noether\": 1882 , \"Hawking\": 1942}"
   ]
  },
  {
   "cell_type": "code",
   "execution_count": 61,
   "id": "426fae57-43b2-4d32-be63-2d9c230fe4ca",
   "metadata": {},
   "outputs": [
    {
     "data": {
      "text/plain": [
       "1809"
      ]
     },
     "execution_count": 61,
     "metadata": {},
     "output_type": "execute_result"
    }
   ],
   "source": [
    "authors_and_birth_years[\"Darwin\"]"
   ]
  },
  {
   "cell_type": "code",
   "execution_count": 62,
   "id": "3ca419af-d448-4370-96bc-f41a77ed6d63",
   "metadata": {},
   "outputs": [
    {
     "data": {
      "text/plain": [
       "dict_keys(['Lovelace', 'Darwin', 'Noether', 'Hawking'])"
      ]
     },
     "execution_count": 62,
     "metadata": {},
     "output_type": "execute_result"
    }
   ],
   "source": [
    "authors_and_birth_years.keys()"
   ]
  },
  {
   "cell_type": "markdown",
   "id": "edb214f1-4930-4805-9d20-8cf702a3ccd8",
   "metadata": {},
   "source": [
    "## For-Schleife"
   ]
  },
  {
   "cell_type": "code",
   "execution_count": 63,
   "id": "f9ef701d-2208-4813-affa-f76d182268ae",
   "metadata": {},
   "outputs": [
    {
     "data": {
      "text/plain": [
       "['Lovelace', 'Darwin', 'Noether', 'Hawking']"
      ]
     },
     "execution_count": 63,
     "metadata": {},
     "output_type": "execute_result"
    }
   ],
   "source": [
    "names"
   ]
  },
  {
   "cell_type": "code",
   "execution_count": 64,
   "id": "30c94413-76db-41cd-baf3-6d396cc8ae59",
   "metadata": {},
   "outputs": [
    {
     "name": "stdout",
     "output_type": "stream",
     "text": [
      "Lovelace did awesome stuff.\n",
      "Darwin did awesome stuff.\n",
      "Noether did awesome stuff.\n",
      "Hawking did awesome stuff.\n"
     ]
    }
   ],
   "source": [
    "for person in names: \n",
    "    print (person + \" did awesome stuff.\")"
   ]
  },
  {
   "cell_type": "code",
   "execution_count": 65,
   "id": "981d5df9-2137-4718-893c-1fd1510c12e1",
   "metadata": {},
   "outputs": [
    {
     "name": "stdout",
     "output_type": "stream",
     "text": [
      "Hawking\n"
     ]
    }
   ],
   "source": [
    "print (person)"
   ]
  },
  {
   "cell_type": "code",
   "execution_count": 66,
   "id": "82fa25fc-38c6-4858-98b9-45179609c63c",
   "metadata": {},
   "outputs": [
    {
     "name": "stdout",
     "output_type": "stream",
     "text": [
      "Variable                  Type     Data/Info\n",
      "--------------------------------------------\n",
      "age                       int      37\n",
      "authors_and_birth_years   dict     n=4\n",
      "first_name                str      Ada\n",
      "known_math                bool     True\n",
      "likes_gardening           bool     False\n",
      "name                      str      Lovelace\n",
      "name_upper                str      LOVELACE\n",
      "names                     list     n=4\n",
      "number_of_articles        str      50\n",
      "person                    str      Hawking\n",
      "size                      float    1.7123\n"
     ]
    }
   ],
   "source": [
    "%whos"
   ]
  },
  {
   "cell_type": "markdown",
   "id": "f39ad920-09fc-4e69-8195-fce7e4b0408c",
   "metadata": {},
   "source": [
    "## Conditionals (Bedingte Anweisungen)"
   ]
  },
  {
   "cell_type": "code",
   "execution_count": 67,
   "id": "ea17ba94-9451-4461-b724-f3428099a81a",
   "metadata": {},
   "outputs": [],
   "source": [
    "temp = 20"
   ]
  },
  {
   "cell_type": "code",
   "execution_count": 68,
   "id": "bbe89fa2-a7e4-45e9-a76f-90d66ef2b116",
   "metadata": {},
   "outputs": [
    {
     "name": "stdout",
     "output_type": "stream",
     "text": [
      "Es ist warm.\n"
     ]
    }
   ],
   "source": [
    "if temp > 15:\n",
    "    print(\"Es ist warm.\")"
   ]
  },
  {
   "cell_type": "code",
   "execution_count": 69,
   "id": "37b315d0-c174-4929-b5d5-85d3caa14af5",
   "metadata": {},
   "outputs": [
    {
     "data": {
      "text/plain": [
       "True"
      ]
     },
     "execution_count": 69,
     "metadata": {},
     "output_type": "execute_result"
    }
   ],
   "source": [
    "20 > 15"
   ]
  },
  {
   "cell_type": "code",
   "execution_count": 70,
   "id": "d62d35ff-d1f6-4eb7-930f-7cded5c2c8d1",
   "metadata": {},
   "outputs": [
    {
     "name": "stdout",
     "output_type": "stream",
     "text": [
      "Es ist warm.\n"
     ]
    }
   ],
   "source": [
    "if temp > 10:\n",
    "    print(\"Es ist warm.\")"
   ]
  },
  {
   "cell_type": "code",
   "execution_count": 74,
   "id": "d2ce577b-d5da-430c-af93-68c4b4119df9",
   "metadata": {},
   "outputs": [
    {
     "ename": "SyntaxError",
     "evalue": "expected ':' (2463868043.py, line 2)",
     "output_type": "error",
     "traceback": [
      "\u001b[1;36m  Cell \u001b[1;32mIn[74], line 2\u001b[1;36m\u001b[0m\n\u001b[1;33m    if temp > 15\u001b[0m\n\u001b[1;37m                ^\u001b[0m\n\u001b[1;31mSyntaxError\u001b[0m\u001b[1;31m:\u001b[0m expected ':'\n"
     ]
    }
   ],
   "source": [
    "temp = 10\n",
    "if temp > 15\n",
    "   print (\"Es ist warm\")\n",
    "else\n",
    "   print (\"Es ist kalt\")"
   ]
  },
  {
   "cell_type": "code",
   "execution_count": 75,
   "id": "bea9a5f5-7c82-4fa9-a7d3-72381a6964da",
   "metadata": {},
   "outputs": [
    {
     "name": "stdout",
     "output_type": "stream",
     "text": [
      "Es ist kalt\n"
     ]
    }
   ],
   "source": [
    "temp = -5\n",
    "if temp > 25:\n",
    "    print (\"Es ist warm.\")\n",
    "elif temp > 25:\n",
    "    print (\"Es ist heiß\")\n",
    "else:\n",
    "    print (\"Es ist kalt\")"
   ]
  },
  {
   "cell_type": "code",
   "execution_count": null,
   "id": "9ca8733f-6714-40ec-befa-85f84fd8309e",
   "metadata": {},
   "outputs": [],
   "source": []
  },
  {
   "cell_type": "code",
   "execution_count": null,
   "id": "bbc40cd8-93ad-48d6-a0a7-8c330084506e",
   "metadata": {},
   "outputs": [],
   "source": []
  },
  {
   "cell_type": "code",
   "execution_count": null,
   "id": "23aaac57-de83-4a55-afdf-da8a965cffd1",
   "metadata": {},
   "outputs": [],
   "source": []
  }
 ],
 "metadata": {
  "kernelspec": {
   "display_name": "Python 3 (ipykernel)",
   "language": "python",
   "name": "python3"
  },
  "language_info": {
   "codemirror_mode": {
    "name": "ipython",
    "version": 3
   },
   "file_extension": ".py",
   "mimetype": "text/x-python",
   "name": "python",
   "nbconvert_exporter": "python",
   "pygments_lexer": "ipython3",
   "version": "3.12.7"
  }
 },
 "nbformat": 4,
 "nbformat_minor": 5
}
