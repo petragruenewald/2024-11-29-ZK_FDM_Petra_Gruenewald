{
 "cells": [
  {
   "cell_type": "code",
   "execution_count": 3,
   "id": "18e4129e-b164-4af2-9d80-846eef4b6b45",
   "metadata": {},
   "outputs": [],
   "source": [
    "import urllib.request\n",
    "import json"
   ]
  },
  {
   "cell_type": "code",
   "execution_count": 2,
   "id": "75cdc5de-efc3-4fed-8482-8a45d38e4d8c",
   "metadata": {},
   "outputs": [],
   "source": [
    "base_url = \"https://api.datacite.org/application/vnd.datacite.datacite+json/\"\n",
    "doi = \"10.5281/zenodo.5563162\"\n",
    "full_url = base_url + doi"
   ]
  },
  {
   "cell_type": "code",
   "execution_count": 4,
   "id": "3a76cd13-3bbb-488b-99bf-0b579bcafde4",
   "metadata": {},
   "outputs": [],
   "source": [
    "doi_json_dataset = urllib.request.urlopen(full_url).read()"
   ]
  },
  {
   "cell_type": "code",
   "execution_count": 5,
   "id": "a77e5619-1437-4c7b-b14d-739c15f30f26",
   "metadata": {},
   "outputs": [],
   "source": [
    "doi_dataset = json.loads(doi_json_dataset)"
   ]
  },
  {
   "cell_type": "code",
   "execution_count": 6,
   "id": "9189e50b-463f-4a41-a214-c857fd15f218",
   "metadata": {},
   "outputs": [
    {
     "data": {
      "text/plain": [
       "{'id': 'https://doi.org/10.5281/zenodo.5563162',\n",
       " 'doi': '10.5281/ZENODO.5563162',\n",
       " 'url': 'https://zenodo.org/record/5563162',\n",
       " 'types': {'ris': 'DATA',\n",
       "  'bibtex': 'misc',\n",
       "  'citeproc': 'dataset',\n",
       "  'schemaOrg': 'Dataset',\n",
       "  'resourceTypeGeneral': 'Dataset'},\n",
       " 'creators': [{'name': 'Banda, Juan M.',\n",
       "   'givenName': 'Juan M.',\n",
       "   'familyName': 'Banda',\n",
       "   'affiliation': [{'name': 'Georgia State University'}],\n",
       "   'nameIdentifiers': [{'schemeUri': 'https://orcid.org',\n",
       "     'nameIdentifier': 'https://orcid.org/0000-0001-8499-824X',\n",
       "     'nameIdentifierScheme': 'ORCID'}]},\n",
       "  {'name': 'Tekumalla, Ramya',\n",
       "   'givenName': 'Ramya',\n",
       "   'familyName': 'Tekumalla',\n",
       "   'affiliation': [{'name': 'Georgia State University'}],\n",
       "   'nameIdentifiers': [{'schemeUri': 'https://orcid.org',\n",
       "     'nameIdentifier': 'https://orcid.org/0000-0002-1606-4856',\n",
       "     'nameIdentifierScheme': 'ORCID'}]},\n",
       "  {'name': 'Wang, Guanyu',\n",
       "   'givenName': 'Guanyu',\n",
       "   'familyName': 'Wang',\n",
       "   'affiliation': [{'name': 'University of Missouri'}]},\n",
       "  {'name': 'Yu, Jingyuan',\n",
       "   'givenName': 'Jingyuan',\n",
       "   'familyName': 'Yu',\n",
       "   'affiliation': [{'name': 'Universitat Autònoma de Barcelona'}]},\n",
       "  {'name': 'Liu, Tuo',\n",
       "   'givenName': 'Tuo',\n",
       "   'familyName': 'Liu',\n",
       "   'affiliation': [{'name': 'Carl von Ossietzky Universität Oldenburg'}]},\n",
       "  {'name': 'Ding, Yuning',\n",
       "   'givenName': 'Yuning',\n",
       "   'familyName': 'Ding',\n",
       "   'affiliation': [{'name': 'Universität Duisburg-Essen'}]},\n",
       "  {'name': 'Artemova, Katya',\n",
       "   'givenName': 'Katya',\n",
       "   'familyName': 'Artemova',\n",
       "   'affiliation': [{'name': 'NRU HSE'}]},\n",
       "  {'name': 'Tutubalina, Elena',\n",
       "   'givenName': 'Elena',\n",
       "   'familyName': 'Tutubalina',\n",
       "   'affiliation': [{'name': 'KFU'}]},\n",
       "  {'name': 'Chowell, Gerardo',\n",
       "   'givenName': 'Gerardo',\n",
       "   'familyName': 'Chowell',\n",
       "   'affiliation': [{'name': 'Georgia State University'}],\n",
       "   'nameIdentifiers': [{'schemeUri': 'https://orcid.org',\n",
       "     'nameIdentifier': 'https://orcid.org/0000-0003-2194-2251',\n",
       "     'nameIdentifierScheme': 'ORCID'}]}],\n",
       " 'titles': [{'title': 'A large-scale COVID-19 Twitter chatter dataset for open scientific research - an international collaboration'}],\n",
       " 'publisher': {'name': 'Zenodo'},\n",
       " 'container': {'type': 'DataRepository',\n",
       "  'identifier': 'https://zenodo.org/communities/biohackathon',\n",
       "  'identifierType': 'URL'},\n",
       " 'subjects': [{'subject': 'social media'},\n",
       "  {'subject': 'twitter'},\n",
       "  {'subject': 'nlp'},\n",
       "  {'subject': 'covid-19'},\n",
       "  {'subject': 'covid19'}],\n",
       " 'contributors': [],\n",
       " 'dates': [{'date': '2021-10-10', 'dateType': 'Issued'}],\n",
       " 'publicationYear': 2021,\n",
       " 'language': 'en',\n",
       " 'identifiers': [{'identifier': 'https://github.com/thepanacealab/covid19_twitter',\n",
       "   'identifierType': 'URL'},\n",
       "  {'identifier': 'https://zenodo.org/record/5563162',\n",
       "   'identifierType': 'URL'}],\n",
       " 'sizes': [],\n",
       " 'formats': [],\n",
       " 'version': '83',\n",
       " 'rightsList': [{'rights': 'Open Access',\n",
       "   'rightsUri': 'info:eu-repo/semantics/openAccess'}],\n",
       " 'descriptions': [{'description': '<em><strong>Version 83 of the dataset. The peer-reviewed publication for this dataset has now been published in Epidemiologia an MDPI journal, and can be accessed here: https://doi.org/10.3390/epidemiologia2030024. Please cite this when using the dataset.</strong></em> <strong>Due to the relevance of the COVID-19 global pandemic, we are releasing our dataset of tweets acquired from the Twitter Stream related to COVID-19 chatter. Since our first release we have received additional data from our new collaborators, allowing this resource to grow to its current size. Dedicated data gathering started from March 11th yielding over 4 million tweets a day. We have added additional data provided by our new collaborators from January 27th to March 27th, to provide extra longitudinal coverage. Version 10 added ~1.5 million tweets in the Russian language collected between January 1st and May 8th, gracefully provided to us by: Katya Artemova (NRU HSE) and Elena Tutubalina (KFU). From version 12 we have included daily hashtags, mentions and emoijis and their frequencies the respective zip files. From version 14 <em>we</em> have included the tweet identifiers and their respective language for the clean version of the dataset. Since version 20 we have included language and place location for all tweets.</strong> <strong>The data collected from the stream captures all languages, but the higher prevalence are: English, Spanish, and French. We release all tweets and retweets on the full_dataset.tsv file (1,222,981,652 unique tweets), and a cleaned version with no retweets on the full_dataset-clean.tsv file (313,558,225 unique tweets). There are several practical reasons for us to leave the retweets, tracing important tweets and their dissemination is one of them. For NLP tasks we provide the top 1000 frequent terms in frequent_terms.csv, the top 1000 bigrams in frequent_bigrams.csv, and the top 1000 trigrams in frequent_trigrams.csv. Some general statistics per day are included for both datasets in the full_dataset-statistics.tsv and full_dataset-clean-statistics.tsv files. For more statistics and some visualizations visit: http://www.panacealab.org/covid19/ </strong> <strong>More details can be found (and will be updated faster at: https://github.com/thepanacealab/covid19_twitter) and our pre-print about the dataset (https://arxiv.org/abs/2004.03688) </strong> <strong>As always, the tweets distributed here are only tweet identifiers (with date and time added) due to the terms and conditions of Twitter to re-distribute Twitter data ONLY for research purposes. They need to be hydrated to be used.</strong>',\n",
       "   'descriptionType': 'Abstract'},\n",
       "  {'description': 'This dataset will be updated bi-weekly at least with additional tweets, look at the github repo for these updates. Release: We have standardized the name of the resource to match our pre-print manuscript and to not have to update it every week.',\n",
       "   'descriptionType': 'Other'}],\n",
       " 'geoLocations': [],\n",
       " 'fundingReferences': [],\n",
       " 'relatedIdentifiers': [{'relationType': 'IsContinuedBy',\n",
       "   'relatedIdentifier': 'http://www.panacealab.org/covid19/',\n",
       "   'resourceTypeGeneral': 'Other',\n",
       "   'relatedIdentifierType': 'URL'},\n",
       "  {'relationType': 'IsSupplementTo',\n",
       "   'relatedIdentifier': 'https://arxiv.org/abs/2004.03688',\n",
       "   'resourceTypeGeneral': 'Preprint',\n",
       "   'relatedIdentifierType': 'URL'},\n",
       "  {'relationType': 'IsVersionOf',\n",
       "   'relatedIdentifier': '10.5281/zenodo.3723939',\n",
       "   'relatedIdentifierType': 'DOI'},\n",
       "  {'relationType': 'IsPartOf',\n",
       "   'relatedIdentifier': 'https://zenodo.org/communities/biohackathon',\n",
       "   'relatedIdentifierType': 'URL'},\n",
       "  {'relationType': 'IsPartOf',\n",
       "   'relatedIdentifier': 'https://zenodo.org/communities/covid-19',\n",
       "   'relatedIdentifierType': 'URL'},\n",
       "  {'relationType': 'IsPartOf',\n",
       "   'relatedIdentifier': 'https://zenodo.org/communities/zenodo',\n",
       "   'relatedIdentifierType': 'URL'}],\n",
       " 'relatedItems': [],\n",
       " 'schemaVersion': 'http://datacite.org/schema/kernel-4',\n",
       " 'providerId': 'cern',\n",
       " 'clientId': 'cern.zenodo',\n",
       " 'agency': 'datacite',\n",
       " 'state': 'findable'}"
      ]
     },
     "execution_count": 6,
     "metadata": {},
     "output_type": "execute_result"
    }
   ],
   "source": [
    "doi_dataset"
   ]
  },
  {
   "cell_type": "code",
   "execution_count": 8,
   "id": "6b80ae55-c536-444a-be41-ebbcd0ff5fd8",
   "metadata": {},
   "outputs": [
    {
     "data": {
      "text/plain": [
       "dict"
      ]
     },
     "execution_count": 8,
     "metadata": {},
     "output_type": "execute_result"
    }
   ],
   "source": [
    "type(doi_dataset)"
   ]
  },
  {
   "cell_type": "code",
   "execution_count": 9,
   "id": "3191f78d-632b-4bb9-a39d-1c6574a2d132",
   "metadata": {},
   "outputs": [
    {
     "data": {
      "text/plain": [
       "dict_keys(['id', 'doi', 'url', 'types', 'creators', 'titles', 'publisher', 'container', 'subjects', 'contributors', 'dates', 'publicationYear', 'language', 'identifiers', 'sizes', 'formats', 'version', 'rightsList', 'descriptions', 'geoLocations', 'fundingReferences', 'relatedIdentifiers', 'relatedItems', 'schemaVersion', 'providerId', 'clientId', 'agency', 'state'])"
      ]
     },
     "execution_count": 9,
     "metadata": {},
     "output_type": "execute_result"
    }
   ],
   "source": [
    "doi_dataset.keys()"
   ]
  },
  {
   "cell_type": "code",
   "execution_count": 11,
   "id": "5d3c6942-fe32-4596-976e-92f13e5f5074",
   "metadata": {},
   "outputs": [
    {
     "name": "stdout",
     "output_type": "stream",
     "text": [
      "2021\n"
     ]
    }
   ],
   "source": [
    "print (doi_dataset[\"publicationYear\"])"
   ]
  },
  {
   "cell_type": "code",
   "execution_count": 12,
   "id": "9783a81a-61f0-4f70-a5d6-35a942b01f96",
   "metadata": {},
   "outputs": [
    {
     "name": "stdout",
     "output_type": "stream",
     "text": [
      "[{'title': 'A large-scale COVID-19 Twitter chatter dataset for open scientific research - an international collaboration'}]\n"
     ]
    }
   ],
   "source": [
    "print (doi_dataset [\"titles\"])"
   ]
  },
  {
   "cell_type": "code",
   "execution_count": 13,
   "id": "d5cd8d36-2b0f-4d86-a3f6-d6bc6c46ea2f",
   "metadata": {},
   "outputs": [
    {
     "name": "stdout",
     "output_type": "stream",
     "text": [
      "{'title': 'A large-scale COVID-19 Twitter chatter dataset for open scientific research - an international collaboration'}\n"
     ]
    }
   ],
   "source": [
    "print(doi_dataset[\"titles\"][0])"
   ]
  },
  {
   "cell_type": "code",
   "execution_count": 14,
   "id": "04531744-ffc1-4904-acc0-e8c5b41ababe",
   "metadata": {},
   "outputs": [
    {
     "name": "stdout",
     "output_type": "stream",
     "text": [
      "A large-scale COVID-19 Twitter chatter dataset for open scientific research - an international collaboration\n"
     ]
    }
   ],
   "source": [
    "print(doi_dataset[\"titles\"][0][\"title\"])"
   ]
  },
  {
   "cell_type": "code",
   "execution_count": 15,
   "id": "fa3be836-b331-4ddc-84b1-a39f12b18b9f",
   "metadata": {},
   "outputs": [
    {
     "data": {
      "text/plain": [
       "dict_keys(['title'])"
      ]
     },
     "execution_count": 15,
     "metadata": {},
     "output_type": "execute_result"
    }
   ],
   "source": [
    "doi_dataset[\"titles\"][0].keys()"
   ]
  },
  {
   "cell_type": "code",
   "execution_count": 17,
   "id": "5744b6e5-27a0-4b56-ad2a-c1305b4fc7fa",
   "metadata": {},
   "outputs": [
    {
     "name": "stdout",
     "output_type": "stream",
     "text": [
      "[{'name': 'Banda, Juan M.', 'givenName': 'Juan M.', 'familyName': 'Banda', 'affiliation': [{'name': 'Georgia State University'}], 'nameIdentifiers': [{'schemeUri': 'https://orcid.org', 'nameIdentifier': 'https://orcid.org/0000-0001-8499-824X', 'nameIdentifierScheme': 'ORCID'}]}, {'name': 'Tekumalla, Ramya', 'givenName': 'Ramya', 'familyName': 'Tekumalla', 'affiliation': [{'name': 'Georgia State University'}], 'nameIdentifiers': [{'schemeUri': 'https://orcid.org', 'nameIdentifier': 'https://orcid.org/0000-0002-1606-4856', 'nameIdentifierScheme': 'ORCID'}]}, {'name': 'Wang, Guanyu', 'givenName': 'Guanyu', 'familyName': 'Wang', 'affiliation': [{'name': 'University of Missouri'}]}, {'name': 'Yu, Jingyuan', 'givenName': 'Jingyuan', 'familyName': 'Yu', 'affiliation': [{'name': 'Universitat Autònoma de Barcelona'}]}, {'name': 'Liu, Tuo', 'givenName': 'Tuo', 'familyName': 'Liu', 'affiliation': [{'name': 'Carl von Ossietzky Universität Oldenburg'}]}, {'name': 'Ding, Yuning', 'givenName': 'Yuning', 'familyName': 'Ding', 'affiliation': [{'name': 'Universität Duisburg-Essen'}]}, {'name': 'Artemova, Katya', 'givenName': 'Katya', 'familyName': 'Artemova', 'affiliation': [{'name': 'NRU HSE'}]}, {'name': 'Tutubalina, Elena', 'givenName': 'Elena', 'familyName': 'Tutubalina', 'affiliation': [{'name': 'KFU'}]}, {'name': 'Chowell, Gerardo', 'givenName': 'Gerardo', 'familyName': 'Chowell', 'affiliation': [{'name': 'Georgia State University'}], 'nameIdentifiers': [{'schemeUri': 'https://orcid.org', 'nameIdentifier': 'https://orcid.org/0000-0003-2194-2251', 'nameIdentifierScheme': 'ORCID'}]}]\n"
     ]
    }
   ],
   "source": [
    " print (doi_dataset[\"creators\"])"
   ]
  },
  {
   "cell_type": "code",
   "execution_count": 20,
   "id": "8817c2d9-1cee-4d6a-85e4-8c19f98c4223",
   "metadata": {},
   "outputs": [
    {
     "name": "stdout",
     "output_type": "stream",
     "text": [
      "Guanyu Wang\n"
     ]
    }
   ],
   "source": [
    "print(doi_dataset[\"creators\"][2][\"givenName\"]+ \" \"+ doi_dataset[\"creators\"] [2][\"familyName\"])"
   ]
  },
  {
   "cell_type": "code",
   "execution_count": 23,
   "id": "8c7876cc-9928-4ff6-9e3d-b3734b6084de",
   "metadata": {},
   "outputs": [
    {
     "name": "stdout",
     "output_type": "stream",
     "text": [
      "Tekumalla, Ramya\n"
     ]
    }
   ],
   "source": [
    "print(doi_dataset[\"creators\"][1][\"name\"])"
   ]
  },
  {
   "cell_type": "code",
   "execution_count": 25,
   "id": "6712ff4c-6f26-4d28-8f2b-108481b6fafa",
   "metadata": {},
   "outputs": [
    {
     "name": "stdout",
     "output_type": "stream",
     "text": [
      "Banda, Juan M.\n",
      "Tekumalla, Ramya\n",
      "Wang, Guanyu\n",
      "Yu, Jingyuan\n",
      "Liu, Tuo\n",
      "Ding, Yuning\n",
      "Artemova, Katya\n",
      "Tutubalina, Elena\n",
      "Chowell, Gerardo\n"
     ]
    }
   ],
   "source": [
    "for creator in doi_dataset[\"creators\"]:\n",
    "    print(creator[\"name\"])"
   ]
  },
  {
   "cell_type": "code",
   "execution_count": 26,
   "id": "dfc1ecf4-43bf-4d14-b2ef-a8712574c6e0",
   "metadata": {},
   "outputs": [],
   "source": [
    "dois = [\"10.6084/m9.figshare.155613\",\n",
    "\"10.6084/m9.figshare.153821.v1\",\n",
    "\"10.7490/f1000research.1115338.1\",\n",
    "\"10.5281/zenodo.2599866\"]\n"
   ]
  },
  {
   "cell_type": "code",
   "execution_count": 29,
   "id": "722bd243-e52b-42ea-997a-fc9d4de45371",
   "metadata": {},
   "outputs": [
    {
     "name": "stdout",
     "output_type": "stream",
     "text": [
      "2013\n",
      "git repository for paper on git and reproducible science\n",
      "----\n",
      "2013\n",
      "git can facilitate greater reproducibility and increased transparency in science\n",
      "----\n",
      "2018\n",
      "The role of the German National Library for Life Sciences ZB MED in the approach to a FAIR Research Data Infrastructure in Agricultural Science embedded in the Life Sciences\n",
      "----\n",
      "2019\n",
      "Nachnutzbare Awarenessmaterialien für Forschungsdatenmanagement (FDM)\n",
      "----\n"
     ]
    }
   ],
   "source": [
    "for doi in dois:\n",
    "    doi_json_dataset = urllib.request.urlopen(base_url + doi).read()\n",
    "    doi_dataset = json.loads(doi_json_dataset)\n",
    "    print(doi_dataset[\"publicationYear\"])\n",
    "    print (doi_dataset[\"titles\"][0][\"title\"])\n",
    "    print(\"----\")"
   ]
  },
  {
   "cell_type": "code",
   "execution_count": null,
   "id": "7e453a2e-6b50-47da-9ed2-20207016141f",
   "metadata": {},
   "outputs": [],
   "source": []
  },
  {
   "cell_type": "code",
   "execution_count": null,
   "id": "3b57c2c9-58fb-4e8f-8046-b6a3b49da0bd",
   "metadata": {},
   "outputs": [],
   "source": []
  },
  {
   "cell_type": "code",
   "execution_count": null,
   "id": "09fbc633-f77e-416a-a391-a21c9ce877a5",
   "metadata": {},
   "outputs": [],
   "source": []
  },
  {
   "cell_type": "code",
   "execution_count": null,
   "id": "cf556ecd-9bc8-4ec5-8588-fad3f19eb57f",
   "metadata": {},
   "outputs": [],
   "source": []
  }
 ],
 "metadata": {
  "kernelspec": {
   "display_name": "Python 3 (ipykernel)",
   "language": "python",
   "name": "python3"
  },
  "language_info": {
   "codemirror_mode": {
    "name": "ipython",
    "version": 3
   },
   "file_extension": ".py",
   "mimetype": "text/x-python",
   "name": "python",
   "nbconvert_exporter": "python",
   "pygments_lexer": "ipython3",
   "version": "3.12.7"
  }
 },
 "nbformat": 4,
 "nbformat_minor": 5
}
